{
  "nbformat": 4,
  "nbformat_minor": 0,
  "metadata": {
    "colab": {
      "provenance": [],
      "authorship_tag": "ABX9TyNHnrxkV5jpw3Apb1VOounm",
      "include_colab_link": true
    },
    "kernelspec": {
      "name": "python3",
      "display_name": "Python 3"
    },
    "language_info": {
      "name": "python"
    }
  },
  "cells": [
    {
      "cell_type": "markdown",
      "metadata": {
        "id": "view-in-github",
        "colab_type": "text"
      },
      "source": [
        "<a href=\"https://colab.research.google.com/github/JW-1211/week01/blob/main/Test0305.ipynb\" target=\"_parent\"><img src=\"https://colab.research.google.com/assets/colab-badge.svg\" alt=\"Open In Colab\"/></a>"
      ]
    },
    {
      "cell_type": "code",
      "execution_count": null,
      "metadata": {
        "id": "E9o2g5iaBGfz"
      },
      "outputs": [],
      "source": []
    },
    {
      "cell_type": "markdown",
      "source": [],
      "metadata": {
        "id": "cG2y35SVB2To"
      }
    },
    {
      "cell_type": "markdown",
      "source": [],
      "metadata": {
        "id": "sWpU1RqvByU8"
      }
    },
    {
      "cell_type": "markdown",
      "source": [
        "# My first coding page\n",
        "---"
      ],
      "metadata": {
        "id": "W2c0w3_jB9mE"
      }
    },
    {
      "cell_type": "code",
      "source": [
        "name = input()\n",
        "print(\"Hello,\", name)"
      ],
      "metadata": {
        "id": "kYq4Y701Ci1B"
      },
      "execution_count": null,
      "outputs": []
    }
  ]
}